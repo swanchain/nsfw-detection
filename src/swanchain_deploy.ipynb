{
 "cells": [
  {
   "cell_type": "code",
   "execution_count": 25,
   "metadata": {},
   "outputs": [],
   "source": [
    "import os\n",
    "import time\n",
    "import dotenv\n",
    "dotenv.load_dotenv(\"../.env\")\n",
    "from swan import SwanAPI, MCSAPI\n",
    "\n",
    "# Initialize the Swan Service\n",
    "swan_api = SwanAPI(api_key=os.getenv(\"SWAN_MAIN_API\"), environment=os.getenv(\"SWAN_ENVIRONMENT\"))\n",
    "\n",
    "api_key = os.getenv(\"MCS_API\")\n",
    "mcs_api = MCSAPI(api_key)\n"
   ]
  },
  {
   "cell_type": "code",
   "execution_count": null,
   "metadata": {},
   "outputs": [],
   "source": [
    "hardwares = swan_api.get_hardware_config()\n",
    "hardwares_info = [hardware.to_dict() for hardware in hardwares if hardware.status == \"available\"] \n",
    "hardwares_info"
   ]
  },
  {
   "cell_type": "code",
   "execution_count": null,
   "metadata": {},
   "outputs": [],
   "source": [
    "device = \"G1ae.medium\"\n",
    "obj = [hardware for hardware in hardwares if hardware.name == device][0]\n",
    "print(obj.id)\n",
    "print([(hardware.name, hardware.id, hardware.region) for hardware in hardwares if hardware.name == device][0])"
   ]
  },
  {
   "cell_type": "code",
   "execution_count": null,
   "metadata": {},
   "outputs": [],
   "source": [
    "from swan.object.source_uri import LagrangeSpace\n",
    "\n",
    "lag = LagrangeSpace('0x1898015fCde650CDB05a69FB9EC70C77e2145206', 'NSFW', os.getenv(\"WALLET\"), obj)\n",
    " \n",
    "lag.get_space_info()\n",
    "\n",
    "# Upload Directory to MCS\n",
    "response = lag.generate_source_uri('swan_test', 'mar8s1', 'nsfw.json', mcs_client = mcs_api)"
   ]
  },
  {
   "cell_type": "code",
   "execution_count": null,
   "metadata": {},
   "outputs": [],
   "source": [
    "print(lag.source_uri)"
   ]
  },
  {
   "cell_type": "code",
   "execution_count": null,
   "metadata": {},
   "outputs": [],
   "source": [
    "import sys\n",
    "sys.path.insert(0, '..')\n",
    " \n",
    "import os\n",
    "from dotenv import load_dotenv\n",
    "load_dotenv()\n",
    " \n",
    "from swan import SwanContract\n",
    " \n",
    "pk = os.getenv('PK')\n",
    "rpc = os.getenv('RPC')\n",
    " \n",
    "c = SwanContract(pk, rpc)\n",
    " \n",
    "# Test esimate lock revenue\n",
    "r = c.estimate_payment(obj.id, 2)\n",
    "print(r)"
   ]
  },
  {
   "cell_type": "code",
   "execution_count": null,
   "metadata": {},
   "outputs": [],
   "source": [
    "r = c._approve_swan_token(22000000000000000000)\n",
    "print(r)\n",
    " \n",
    "r = c.lock_revenue('1', obj.id, 2)\n",
    "print(r)"
   ]
  },
  {
   "cell_type": "code",
   "execution_count": null,
   "metadata": {},
   "outputs": [],
   "source": [
    "# Retrieve List of Hardwares\n",
    "\n",
    "# for hardware in hardwares:\n",
    "#     if hardware.name == 'C1ae.medium':\n",
    "#         print(hardware.region, hardware.price)\n",
    "        \n",
    "# Deploy task\n",
    "result = swan_api.deploy_task(\n",
    "                              cfg_name=device, \n",
    "                              region='California-US', \n",
    "                              start_in=60*40, duration=3600*1, \n",
    "                              job_source_uri=lag.source_uri, \n",
    "                              paid=22,\n",
    "                              tx_hash=\"0xc7dc919dfa5cb3375fefb70b8ba5b96dc488890ac9aa8d58e261ca33d6af0cc1\",\n",
    "                              wallet_address=os.getenv('WALLET'),\n",
    "                            )\n",
    "print(result)\n",
    "task_uuid = result['data']['task']['uuid']\n",
    "print(\"Task UUID:\", task_uuid)"
   ]
  },
  {
   "cell_type": "code",
   "execution_count": null,
   "metadata": {},
   "outputs": [],
   "source": [
    "import json\n",
    "\n",
    "# Check task info\n",
    "while True:\n",
    "    info = swan_api.get_deployment_info(task_uuid=task_uuid)\n",
    "    if len(info['data']['jobs']) > 0:\n",
    "        \n",
    "        status = info['data']['jobs'][0]['status']\n",
    "        print(status)\n",
    "        \n",
    "        job_res_uri = info['data']['jobs'][0]['job_result_uri']\n",
    "        job_real_uri = info['data']['jobs'][0]['job_real_uri']\n",
    "        print(\"Job Result URL: \", job_res_uri)\n",
    "        print(\"Job Real URL: \", job_real_uri)\n",
    "        \n",
    "        # break\n",
    "        if status == 'deploytok8s' or status == \"Cancelled\" or status == \"Failed\":\n",
    "            break\n",
    "        \n",
    "    time.sleep(30)"
   ]
  },
  {
   "cell_type": "code",
   "execution_count": null,
   "metadata": {},
   "outputs": [],
   "source": [
    "r = swan_api.get_real_url(task_uuid)\n",
    "print(r)"
   ]
  },
  {
   "cell_type": "code",
   "execution_count": 48,
   "metadata": {},
   "outputs": [
    {
     "name": "stdout",
     "output_type": "stream",
     "text": [
      "{\n",
      "    \"result\": [\n",
      "        {\n",
      "            \"cid\": \"bafkreifimggaqwgu2pkjwx6hjwtpw7icswyiifgm2riiuy3kazsw7n67xy\",\n",
      "            \"is_nsfw_image\": true,\n",
      "            \"link\": \"https://encrypted-tbn0.gstatic.com/images?q=tbn:ANd9GcSYf_0-TvQ0WIDT0wFTAzdqD-c0y1mSfQjfOO0ydStXxA&s\",\n",
      "            \"probability\": 0.999750554561615\n",
      "        },\n",
      "        {\n",
      "            \"cid\": \"bafkreidcpmeykuc6atin6zxiednu6vsejitdwsuj6e6hiepqscvihvnvgu\",\n",
      "            \"is_nsfw_image\": true,\n",
      "            \"link\": \"https://cdni.pornpics.de/460/7/622/16870332/16870332_155_7baa.jpg\",\n",
      "            \"probability\": 0.999907374382019\n",
      "        },\n",
      "        {\n",
      "            \"cid\": \"bafkreibiv3ntv7fbw2xiedq4pzkjrr4xdrhw5v2aevhnefn366p2kedixm\",\n",
      "            \"is_nsfw_image\": true,\n",
      "            \"link\": \"https://static-ca-cdn.eporner.com/gallery/58/U0/pvyTrBuU058/11679702-ai-porn-bbw-image-5.jpg\",\n",
      "            \"probability\": 0.999873161315918\n",
      "        },\n",
      "        {\n",
      "            \"cid\": \"bafkreibmfbifzisgpntdaeljw7nbchdnlbijccitaymcozakaiznzaiw64\",\n",
      "            \"is_nsfw_image\": false,\n",
      "            \"link\": \"https://upload.wikimedia.org/wikipedia/commons/1/18/Ipfs-logo-1024-ice-text.png\",\n",
      "            \"probability\": 0.999238133430481\n",
      "        },\n",
      "        {\n",
      "            \"cid\": \"bafkreibufeswf5gtvgwfu3g52ag5fc3hs3imf3q2dgjjvmqfejkc23vxya\",\n",
      "            \"is_nsfw_image\": false,\n",
      "            \"link\": \"https://media.istockphoto.com/id/157030584/vector/thumb-up-emoticon.jpg?s=612x612&w=0&k=20&c=GGl4NM_6_BzvJxLSl7uCDF4Vlo_zHGZVmmqOBIewgKg=\",\n",
      "            \"probability\": 0.9925754070281982\n",
      "        }\n",
      "    ]\n",
      "}\n"
     ]
    }
   ],
   "source": [
    "import requests\n",
    "import json\n",
    "\n",
    "headers = {\n",
    "    'Content-Type': 'application/json',\n",
    "}\n",
    "json_data = {\n",
    "    'link': [\n",
    "        'https://encrypted-tbn0.gstatic.com/images?q=tbn:ANd9GcSYf_0-TvQ0WIDT0wFTAzdqD-c0y1mSfQjfOO0ydStXxA&s',\n",
    "        'https://cdni.pornpics.de/460/7/622/16870332/16870332_155_7baa.jpg',\n",
    "        'https://static-ca-cdn.eporner.com/gallery/58/U0/pvyTrBuU058/11679702-ai-porn-bbw-image-5.jpg',\n",
    "        'https://upload.wikimedia.org/wikipedia/commons/1/18/Ipfs-logo-1024-ice-text.png',\n",
    "        'https://media.istockphoto.com/id/157030584/vector/thumb-up-emoticon.jpg?s=612x612&w=0&k=20&c=GGl4NM_6_BzvJxLSl7uCDF4Vlo_zHGZVmmqOBIewgKg=',\n",
    "    ],\n",
    "}\n",
    "# https://1j2muw1lae.dev2.crosschain.computer\n",
    "response = requests.post(f\"http://127.0.0.1:5000/link\", headers=headers, json=json_data)\n",
    "\n",
    "try:\n",
    "    print(json.dumps(response.json(), indent=4))\n",
    "except Exception as e:\n",
    "    print(e)\n",
    "    print(response)\n"
   ]
  },
  {
   "cell_type": "code",
   "execution_count": 30,
   "metadata": {},
   "outputs": [],
   "source": [
    "log_path = '../nsfw_imgs.csv'\n",
    "\n",
    "if not os.path.isfile(log_path):\n",
    "    with open(log_path, 'w') as f:\n",
    "        f.write('cid,link,IS NSFW IMAGE,Probability\\n')\n",
    "\n",
    "with open(log_path, 'a') as f:\n",
    "    for result in response.json()['result']:\n",
    "        if result['is_nsfw_image']:\n",
    "            f.write(f\"{result['cid']},{result['link']},{result['is_nsfw_image']},{result['probability']}\\n\")\n"
   ]
  }
 ],
 "metadata": {
  "kernelspec": {
   "display_name": "swanchain",
   "language": "python",
   "name": "python3"
  },
  "language_info": {
   "codemirror_mode": {
    "name": "ipython",
    "version": 3
   },
   "file_extension": ".py",
   "mimetype": "text/x-python",
   "name": "python",
   "nbconvert_exporter": "python",
   "pygments_lexer": "ipython3",
   "version": "3.10.14"
  }
 },
 "nbformat": 4,
 "nbformat_minor": 2
}
