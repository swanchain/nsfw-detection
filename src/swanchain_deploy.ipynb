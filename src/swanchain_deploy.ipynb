{
 "cells": [
  {
   "cell_type": "code",
   "execution_count": 14,
   "metadata": {},
   "outputs": [],
   "source": [
    "import os\n",
    "import time\n",
    "import dotenv\n",
    "dotenv.load_dotenv(\"../.env\")\n",
    "from swan import SwanAPI, MCSAPI\n",
    "\n",
    "# Initialize the Swan Service\n",
    "swan_api = SwanAPI(api_key=os.getenv(\"SWAN_API\"))\n",
    "\n",
    "api_key = os.getenv(\"MCS_API\")\n",
    "mcs_api = MCSAPI(api_key)\n"
   ]
  },
  {
   "cell_type": "code",
   "execution_count": 22,
   "metadata": {},
   "outputs": [
    {
     "data": {
      "text/plain": [
       "[{'id': 0,\n",
       "  'name': 'C1ae.small',\n",
       "  'description': 'CPU only · 2 vCPU · 2 GiB',\n",
       "  'type': 'CPU',\n",
       "  'reigion': ['Ivano-Frankivsk Oblast-UA',\n",
       "   'North Rhine-Westphalia-DE',\n",
       "   'Jeollanam-do-KR',\n",
       "   'Kowloon City-HK',\n",
       "   'Kyiv City-UA',\n",
       "   'North Carolina-US',\n",
       "   'Beijing-CN',\n",
       "   'Quebec-CA',\n",
       "   'California-US',\n",
       "   'Guangdong-CN',\n",
       "   'Bavaria-DE',\n",
       "   'Saxony-DE',\n",
       "   'North Holland-NL',\n",
       "   'Jiangsu-CN',\n",
       "   'Illinois-US',\n",
       "   'Tokyo-JP'],\n",
       "  'price': '0.0',\n",
       "  'status': 'available'},\n",
       " {'id': 1,\n",
       "  'name': 'C1ae.medium',\n",
       "  'description': 'CPU only · 4 vCPU · 4 GiB',\n",
       "  'type': 'CPU',\n",
       "  'reigion': ['Ivano-Frankivsk Oblast-UA',\n",
       "   'North Rhine-Westphalia-DE',\n",
       "   'Kowloon City-HK',\n",
       "   'Kyiv City-UA',\n",
       "   'North Carolina-US',\n",
       "   'Beijing-CN',\n",
       "   'California-US',\n",
       "   'Guangdong-CN',\n",
       "   'North Holland-NL',\n",
       "   'Jiangsu-CN',\n",
       "   'Illinois-US',\n",
       "   'Tokyo-JP'],\n",
       "  'price': '1.0',\n",
       "  'status': 'available'},\n",
       " {'id': 6,\n",
       "  'name': 'M1ae.2xlarge',\n",
       "  'description': 'Nvidia 2080 Ti · 4 vCPU · 8 GiB',\n",
       "  'type': 'GPU',\n",
       "  'reigion': ['North Carolina-US'],\n",
       "  'price': '6.0',\n",
       "  'status': 'available'},\n",
       " {'id': 7,\n",
       "  'name': 'M1ae.3xlarge',\n",
       "  'description': 'Nvidia 2080 Ti · 8 vCPU · 16 GiB',\n",
       "  'type': 'GPU',\n",
       "  'reigion': ['North Carolina-US'],\n",
       "  'price': '6.5',\n",
       "  'status': 'available'},\n",
       " {'id': 12,\n",
       "  'name': 'G1ae.small',\n",
       "  'description': 'Nvidia 3080 · 4 vCPU · 8 GiB',\n",
       "  'type': 'GPU',\n",
       "  'reigion': ['Kowloon City-HK',\n",
       "   'Guangdong-CN',\n",
       "   'California-US',\n",
       "   'Jiangsu-CN',\n",
       "   'Tokyo-JP'],\n",
       "  'price': '10.0',\n",
       "  'status': 'available'},\n",
       " {'id': 13,\n",
       "  'name': 'G1ae.medium',\n",
       "  'description': 'Nvidia 3080 · 8 vCPU · 16 GiB',\n",
       "  'type': 'GPU',\n",
       "  'reigion': ['Kowloon City-HK', 'Jiangsu-CN', 'Tokyo-JP', 'California-US'],\n",
       "  'price': '11.0',\n",
       "  'status': 'available'},\n",
       " {'id': 20,\n",
       "  'name': 'Hpc1ae.small',\n",
       "  'description': 'Nvidia 3090 · 4 vCPU · 8 GiB',\n",
       "  'type': 'GPU',\n",
       "  'reigion': ['Guangdong-CN', 'California-US'],\n",
       "  'price': '14.0',\n",
       "  'status': 'available'},\n",
       " {'id': 21,\n",
       "  'name': 'Hpc1ae.medium',\n",
       "  'description': 'Nvidia 3090 · 8 vCPU · 16 GiB',\n",
       "  'type': 'GPU',\n",
       "  'reigion': ['California-US'],\n",
       "  'price': '16.0',\n",
       "  'status': 'available'},\n",
       " {'id': 72,\n",
       "  'name': 'R1ae.small',\n",
       "  'description': 'Nvidia 2080 TI · 8 vCPU · 32 GiB',\n",
       "  'type': 'GPU',\n",
       "  'reigion': ['North Carolina-US'],\n",
       "  'price': '12.0',\n",
       "  'status': 'available'},\n",
       " {'id': 73,\n",
       "  'name': 'R1ae.medium',\n",
       "  'description': 'Nvidia 3080 · 8 vCPU · 32 GiB',\n",
       "  'type': 'GPU',\n",
       "  'reigion': ['Kowloon City-HK', 'Jiangsu-CN', 'Tokyo-JP', 'California-US'],\n",
       "  'price': '22.0',\n",
       "  'status': 'available'},\n",
       " {'id': 74,\n",
       "  'name': 'R1ae.large',\n",
       "  'description': 'Nvidia 3090 · 8 vCPU · 32 GiB',\n",
       "  'type': 'GPU',\n",
       "  'reigion': ['California-US'],\n",
       "  'price': '30.0',\n",
       "  'status': 'available'}]"
      ]
     },
     "execution_count": 22,
     "metadata": {},
     "output_type": "execute_result"
    }
   ],
   "source": [
    "hardwares = swan_api.get_hardware_config()\n",
    "hardwares_info = [hardware.to_dict() for hardware in hardwares if hardware.status == \"available\"] \n",
    "hardwares_info"
   ]
  },
  {
   "cell_type": "code",
   "execution_count": 23,
   "metadata": {},
   "outputs": [
    {
     "name": "stdout",
     "output_type": "stream",
     "text": [
      "13\n",
      "('G1ae.medium', 13, ['Kowloon City-HK', 'Jiangsu-CN', 'Tokyo-JP', 'California-US'])\n"
     ]
    }
   ],
   "source": [
    "device = \"G1ae.medium\"\n",
    "obj = [hardware for hardware in hardwares if hardware.name == device][0]\n",
    "print(obj.id)\n",
    "print([(hardware.name, hardware.id, hardware.region) for hardware in hardwares if hardware.name == device][0])"
   ]
  },
  {
   "cell_type": "code",
   "execution_count": 17,
   "metadata": {},
   "outputs": [],
   "source": [
    "from swan.object.source_uri import LagrangeSpace\n",
    "\n",
    "lag = LagrangeSpace('0x5339595102d922AA0F8EfD6DCA9a2b406F57937a', 'NSFWDetection', os.getenv(\"WALLET\"), obj)\n",
    " \n",
    "lag.get_space_info()\n",
    "\n",
    "# Upload Directory to MCS\n",
    "response = lag.generate_source_uri('swan_test', 'mar8s1', 'nsfw.json', mcs_client = mcs_api)"
   ]
  },
  {
   "cell_type": "code",
   "execution_count": 18,
   "metadata": {},
   "outputs": [
    {
     "name": "stdout",
     "output_type": "stream",
     "text": [
      "https://plutotest.acl.swanipfs.com/ipfs/QmPA19sHXnBPHWk2oohQZtogV4zDc8GZPvsv97xQP3eJSj\n"
     ]
    }
   ],
   "source": [
    "print(lag.source_uri)"
   ]
  },
  {
   "cell_type": "code",
   "execution_count": 19,
   "metadata": {},
   "outputs": [
    {
     "name": "stdout",
     "output_type": "stream",
     "text": [
      "22000000000000000000\n"
     ]
    }
   ],
   "source": [
    "import sys\n",
    "sys.path.insert(0, '..')\n",
    " \n",
    "import os\n",
    "from dotenv import load_dotenv\n",
    "load_dotenv()\n",
    " \n",
    "from swan import SwanContract\n",
    " \n",
    "pk = os.getenv('PK')\n",
    "rpc = os.getenv('RPC')\n",
    " \n",
    "c = SwanContract(pk, rpc)\n",
    " \n",
    "# Test esimate lock revenue\n",
    "r = c.estimate_payment(obj.id, 2)\n",
    "print(r)"
   ]
  },
  {
   "cell_type": "code",
   "execution_count": 20,
   "metadata": {},
   "outputs": [
    {
     "name": "stdout",
     "output_type": "stream",
     "text": [
      "0x5ecbbf3b08f29032d8b13cde63341fd3ac9f865748beb183b4a4d03d8479a705\n",
      "0x15e6f29619ef18ac7c33d7bcf1c90a997fdb86452416865a3cc06c2dfa8cf20c\n"
     ]
    }
   ],
   "source": [
    "r = c._approve_swan_token(22000000000000000000)\n",
    "print(r)\n",
    " \n",
    "r = c.lock_revenue('1', obj.id, 1)\n",
    "print(r)"
   ]
  },
  {
   "cell_type": "code",
   "execution_count": 26,
   "metadata": {},
   "outputs": [
    {
     "name": "stdout",
     "output_type": "stream",
     "text": [
      "{'data': {'task': {'created_at': '1711728208', 'end_at': '1711734203', 'leading_job_id': None, 'status': 'created', 'task_detail_cid': 'https://data.mcs.lagrangedao.org/ipfs/QmetWRj8Lu3Z6Ttbc8RvKmuKahGsTfKuvT58Ldd3qEpq5D', 'updated_at': '1711728208', 'uuid': '26f645f7-0cd9-4441-b770-9a168048e832'}}, 'message': 'Task_uuid created.', 'status': 'success'}\n",
      "Task UUID: 26f645f7-0cd9-4441-b770-9a168048e832\n"
     ]
    }
   ],
   "source": [
    "# Retrieve List of Hardwares\n",
    "\n",
    "# for hardware in hardwares:\n",
    "#     if hardware.name == 'C1ae.medium':\n",
    "#         print(hardware.region, hardware.price)\n",
    "        \n",
    "# Deploy task\n",
    "result = swan_api.deploy_task(\n",
    "                              cfg_name=device, \n",
    "                              region='California-US', \n",
    "                              start_in=60*40, duration=3600*1, \n",
    "                              job_source_uri=\"https://plutotest.acl.swanipfs.com/ipfs/QmPA19sHXnBPHWk2oohQZtogV4zDc8GZPvsv97xQP3eJSj\", \n",
    "                              paid=11,\n",
    "                              tx_hash=\"0x15e6f29619ef18ac7c33d7bcf1c90a997fdb86452416865a3cc06c2dfa8cf20c\",\n",
    "                              wallet_address=os.getenv('WALLET')\n",
    "                            )\n",
    "print(result)\n",
    "task_uuid = result['data']['task']['uuid']\n",
    "print(\"Task UUID:\", task_uuid)"
   ]
  },
  {
   "cell_type": "code",
   "execution_count": 27,
   "metadata": {},
   "outputs": [
    {
     "name": "stdout",
     "output_type": "stream",
     "text": [
      "Submitted\n",
      "Job Result URL:  https://bd8fa49f2935.acl.swanipfs.com/ipfs/Qmd3rDHyNtzW6fEuF3PVYkKfswuG7aRzzkGFjZ9eRsyMaD\n",
      "Job Real URL:  https://82n07mpltv.lag.topipfs.io\n",
      "Submitted\n",
      "Job Result URL:  https://bd8fa49f2935.acl.swanipfs.com/ipfs/Qmd3rDHyNtzW6fEuF3PVYkKfswuG7aRzzkGFjZ9eRsyMaD\n",
      "Job Real URL:  https://82n07mpltv.lag.topipfs.io\n",
      "Submitted\n",
      "Job Result URL:  https://bd8fa49f2935.acl.swanipfs.com/ipfs/Qmd3rDHyNtzW6fEuF3PVYkKfswuG7aRzzkGFjZ9eRsyMaD\n",
      "Job Real URL:  https://82n07mpltv.lag.topipfs.io\n",
      "Submitted\n",
      "Job Result URL:  https://bd8fa49f2935.acl.swanipfs.com/ipfs/Qmd3rDHyNtzW6fEuF3PVYkKfswuG7aRzzkGFjZ9eRsyMaD\n",
      "Job Real URL:  https://82n07mpltv.lag.topipfs.io\n",
      "Submitted\n",
      "Job Result URL:  https://bd8fa49f2935.acl.swanipfs.com/ipfs/Qmd3rDHyNtzW6fEuF3PVYkKfswuG7aRzzkGFjZ9eRsyMaD\n",
      "Job Real URL:  https://82n07mpltv.lag.topipfs.io\n",
      "Submitted\n",
      "Job Result URL:  https://bd8fa49f2935.acl.swanipfs.com/ipfs/Qmd3rDHyNtzW6fEuF3PVYkKfswuG7aRzzkGFjZ9eRsyMaD\n",
      "Job Real URL:  https://82n07mpltv.lag.topipfs.io\n"
     ]
    },
    {
     "ename": "KeyboardInterrupt",
     "evalue": "",
     "output_type": "error",
     "traceback": [
      "\u001b[0;31m---------------------------------------------------------------------------\u001b[0m",
      "\u001b[0;31mKeyboardInterrupt\u001b[0m                         Traceback (most recent call last)",
      "\u001b[1;32m/home/tomyang/projects/porn_detection/vit_based/src/swanchain_deploy.ipynb Cell 9\u001b[0m line \u001b[0;36m2\n\u001b[1;32m     <a href='vscode-notebook-cell://ssh-remote%2B34.136.68.167/home/tomyang/projects/porn_detection/vit_based/src/swanchain_deploy.ipynb#X11sdnNjb2RlLXJlbW90ZQ%3D%3D?line=16'>17</a>\u001b[0m     \u001b[39mif\u001b[39;00m status \u001b[39m==\u001b[39m \u001b[39m'\u001b[39m\u001b[39mdeploytok8s\u001b[39m\u001b[39m'\u001b[39m \u001b[39mor\u001b[39;00m status \u001b[39m==\u001b[39m \u001b[39m\"\u001b[39m\u001b[39mCancelled\u001b[39m\u001b[39m\"\u001b[39m \u001b[39mor\u001b[39;00m status \u001b[39m==\u001b[39m \u001b[39m\"\u001b[39m\u001b[39mFailed\u001b[39m\u001b[39m\"\u001b[39m:\n\u001b[1;32m     <a href='vscode-notebook-cell://ssh-remote%2B34.136.68.167/home/tomyang/projects/porn_detection/vit_based/src/swanchain_deploy.ipynb#X11sdnNjb2RlLXJlbW90ZQ%3D%3D?line=17'>18</a>\u001b[0m         \u001b[39mbreak\u001b[39;00m\n\u001b[0;32m---> <a href='vscode-notebook-cell://ssh-remote%2B34.136.68.167/home/tomyang/projects/porn_detection/vit_based/src/swanchain_deploy.ipynb#X11sdnNjb2RlLXJlbW90ZQ%3D%3D?line=19'>20</a>\u001b[0m time\u001b[39m.\u001b[39;49msleep(\u001b[39m20\u001b[39;49m)\n",
      "\u001b[0;31mKeyboardInterrupt\u001b[0m: "
     ]
    }
   ],
   "source": [
    "import json\n",
    "\n",
    "# Check task info\n",
    "while True:\n",
    "    info = swan_api.get_deployment_info(task_uuid=task_uuid)\n",
    "    if len(info['data']['jobs']) > 0:\n",
    "        \n",
    "        status = info['data']['jobs'][0]['status']\n",
    "        print(status)\n",
    "        \n",
    "        job_res_url = info['data']['jobs'][0]['job_result_uri']\n",
    "        job_real_url = info['data']['jobs'][0]['job_real_uri']\n",
    "        print(\"Job Result URL: \", job_res_url)\n",
    "        print(\"Job Real URL: \", job_real_url)\n",
    "        \n",
    "        # break\n",
    "        if status == 'deploytok8s' or status == \"Cancelled\" or status == \"Failed\":\n",
    "            break\n",
    "        \n",
    "    time.sleep(20)"
   ]
  },
  {
   "cell_type": "code",
   "execution_count": null,
   "metadata": {},
   "outputs": [],
   "source": [
    "r = swan_api.get_real_url(task_uuid)\n",
    "print(r)"
   ]
  },
  {
   "cell_type": "code",
   "execution_count": 15,
   "metadata": {},
   "outputs": [
    {
     "name": "stdout",
     "output_type": "stream",
     "text": [
      "{\n",
      "    \"result\": [\n",
      "        {\n",
      "            \"is_nsfw_image\": true,\n",
      "            \"is_nsfw_link\": false,\n",
      "            \"link\": \"https://encrypted-tbn0.gstatic.com/images?q=tbn:ANd9GcSYf_0-TvQ0WIDT0wFTAzdqD-c0y1mSfQjfOO0ydStXxA&s\",\n",
      "            \"probability\": 0.999750554561615\n",
      "        },\n",
      "        {\n",
      "            \"is_nsfw_image\": false,\n",
      "            \"is_nsfw_link\": false,\n",
      "            \"link\": \"https://upload.wikimedia.org/wikipedia/commons/1/18/Ipfs-logo-1024-ice-text.png\",\n",
      "            \"probability\": 0.999238133430481\n",
      "        },\n",
      "        {\n",
      "            \"is_nsfw_image\": false,\n",
      "            \"is_nsfw_link\": false,\n",
      "            \"link\": \"www.google.com\",\n",
      "            \"probability\": null\n",
      "        },\n",
      "        {\n",
      "            \"is_nsfw_image\": null,\n",
      "            \"is_nsfw_link\": true,\n",
      "            \"link\": \"www.pornhub.com\",\n",
      "            \"probability\": 100\n",
      "        }\n",
      "    ]\n",
      "}\n"
     ]
    }
   ],
   "source": [
    "import requests\n",
    "import json\n",
    "\n",
    "headers = {\n",
    "    'Content-Type': 'application/json',\n",
    "}\n",
    "\n",
    "json_data = {\n",
    "    'link': [\n",
    "        'https://encrypted-tbn0.gstatic.com/images?q=tbn:ANd9GcSYf_0-TvQ0WIDT0wFTAzdqD-c0y1mSfQjfOO0ydStXxA&s',\n",
    "        'https://upload.wikimedia.org/wikipedia/commons/1/18/Ipfs-logo-1024-ice-text.png',\n",
    "        'www.google.com',\n",
    "        'www.pornhub.com',\n",
    "    ],\n",
    "}\n",
    "\n",
    "response = requests.post(f\"http://127.0.0.1:5000/link\", headers=headers, json=json_data)\n",
    "try:\n",
    "    print(json.dumps(response.json(), indent=4))\n",
    "except Exception as e:\n",
    "    print(e)\n",
    "    print(response)\n"
   ]
  },
  {
   "cell_type": "code",
   "execution_count": null,
   "metadata": {},
   "outputs": [],
   "source": [
    "log_path = '../nsfw.log'\n",
    "\n",
    "if os.path.isfile(log_path):\n",
    "    with open(log_path, 'w') as f:\n",
    "        f.write('link,IS NSFW IMAGE,IS NSFW LINK,Probability\\n')\n",
    "\n",
    "with open(log_path, 'a') as f:\n",
    "    for result in response.json()['result']:\n",
    "        f.write(f\"{result['link']},{result['is_nsfw_image']},{result['is_nsfw_link']},{result['probability']}\\n\")\n",
    "        "
   ]
  }
 ],
 "metadata": {
  "kernelspec": {
   "display_name": "swanchain",
   "language": "python",
   "name": "python3"
  },
  "language_info": {
   "codemirror_mode": {
    "name": "ipython",
    "version": 3
   },
   "file_extension": ".py",
   "mimetype": "text/x-python",
   "name": "python",
   "nbconvert_exporter": "python",
   "pygments_lexer": "ipython3",
   "version": "3.10.14"
  }
 },
 "nbformat": 4,
 "nbformat_minor": 2
}
