{
 "cells": [
  {
   "cell_type": "code",
   "execution_count": 5,
   "metadata": {},
   "outputs": [],
   "source": [
    "import os\n",
    "import time\n",
    "import dotenv\n",
    "dotenv.load_dotenv(\"../.env\")\n",
    "from swan import SwanAPI, MCSAPI\n",
    "\n",
    "\n",
    "# Initialize the Swan Service\n",
    "swan_api = SwanAPI(api_key=os.getenv(\"SWAN_MAIN_API\"), environment=None)\n",
    "\n",
    "api_key = os.getenv(\"MCS_API\")\n",
    "mcs_api = MCSAPI(api_key)\n"
   ]
  },
  {
   "cell_type": "code",
   "execution_count": 6,
   "metadata": {},
   "outputs": [
    {
     "data": {
      "text/plain": [
       "[{'id': 0,\n",
       "  'name': 'C1ae.small',\n",
       "  'description': 'CPU only · 2 vCPU · 2 GiB',\n",
       "  'type': 'CPU',\n",
       "  'reigion': ['Ivano-Frankivsk Oblast-UA',\n",
       "   'North Rhine-Westphalia-DE',\n",
       "   'Kowloon City-HK',\n",
       "   'Kyiv City-UA',\n",
       "   'North Carolina-US',\n",
       "   'Beijing-CN',\n",
       "   'Quebec-CA',\n",
       "   'California-US',\n",
       "   'Bavaria-DE',\n",
       "   'Guangdong-CN',\n",
       "   'Saxony-DE',\n",
       "   'Jiangsu-CN',\n",
       "   'Illinois-US',\n",
       "   'Central and Western District-HK',\n",
       "   'Tokyo-JP'],\n",
       "  'price': '0.0',\n",
       "  'status': 'available'},\n",
       " {'id': 1,\n",
       "  'name': 'C1ae.medium',\n",
       "  'description': 'CPU only · 4 vCPU · 4 GiB',\n",
       "  'type': 'CPU',\n",
       "  'reigion': ['Ivano-Frankivsk Oblast-UA',\n",
       "   'Kowloon City-HK',\n",
       "   'Beijing-CN',\n",
       "   'North Carolina-US',\n",
       "   'Quebec-CA',\n",
       "   'California-US',\n",
       "   'Guangdong-CN',\n",
       "   'Jiangsu-CN',\n",
       "   'Illinois-US',\n",
       "   'Central and Western District-HK',\n",
       "   'Tokyo-JP'],\n",
       "  'price': '1.0',\n",
       "  'status': 'available'},\n",
       " {'id': 6,\n",
       "  'name': 'M1ae.2xlarge',\n",
       "  'description': 'Nvidia 2080 Ti · 4 vCPU · 8 GiB',\n",
       "  'type': 'GPU',\n",
       "  'reigion': ['North Carolina-US'],\n",
       "  'price': '6.0',\n",
       "  'status': 'available'},\n",
       " {'id': 7,\n",
       "  'name': 'M1ae.3xlarge',\n",
       "  'description': 'Nvidia 2080 Ti · 8 vCPU · 16 GiB',\n",
       "  'type': 'GPU',\n",
       "  'reigion': ['North Carolina-US'],\n",
       "  'price': '6.5',\n",
       "  'status': 'available'},\n",
       " {'id': 12,\n",
       "  'name': 'G1ae.small',\n",
       "  'description': 'Nvidia 3080 · 4 vCPU · 8 GiB',\n",
       "  'type': 'GPU',\n",
       "  'reigion': ['Kowloon City-HK',\n",
       "   'North Carolina-US',\n",
       "   'Quebec-CA',\n",
       "   'Guangdong-CN',\n",
       "   'California-US',\n",
       "   'Tokyo-JP'],\n",
       "  'price': '10.0',\n",
       "  'status': 'available'},\n",
       " {'id': 13,\n",
       "  'name': 'G1ae.medium',\n",
       "  'description': 'Nvidia 3080 · 8 vCPU · 16 GiB',\n",
       "  'type': 'GPU',\n",
       "  'reigion': ['Kowloon City-HK',\n",
       "   'North Carolina-US',\n",
       "   'Guangdong-CN',\n",
       "   'California-US',\n",
       "   'Tokyo-JP'],\n",
       "  'price': '11.0',\n",
       "  'status': 'available'},\n",
       " {'id': 20,\n",
       "  'name': 'Hpc1ae.small',\n",
       "  'description': 'Nvidia 3090 · 4 vCPU · 8 GiB',\n",
       "  'type': 'GPU',\n",
       "  'reigion': ['North Carolina-US', 'California-US'],\n",
       "  'price': '14.0',\n",
       "  'status': 'available'},\n",
       " {'id': 21,\n",
       "  'name': 'Hpc1ae.medium',\n",
       "  'description': 'Nvidia 3090 · 8 vCPU · 16 GiB',\n",
       "  'type': 'GPU',\n",
       "  'reigion': ['California-US'],\n",
       "  'price': '16.0',\n",
       "  'status': 'available'},\n",
       " {'id': 24,\n",
       "  'name': 'Hpc1ae.2xlarge',\n",
       "  'description': 'NVIDIA A4000 · 4 vCPU · 8 GiB',\n",
       "  'type': 'AI GPU',\n",
       "  'reigion': ['Ivano-Frankivsk Oblast-UA'],\n",
       "  'price': '21.0',\n",
       "  'status': 'available'},\n",
       " {'id': 25,\n",
       "  'name': 'Hpc1ae.3xlarge',\n",
       "  'description': 'NVIDIA A4000 · 8 vCPU · 16 GiB',\n",
       "  'type': 'AI GPU',\n",
       "  'reigion': ['Ivano-Frankivsk Oblast-UA'],\n",
       "  'price': '21.0',\n",
       "  'status': 'available'},\n",
       " {'id': 27,\n",
       "  'name': 'T1ae.medium',\n",
       "  'description': 'Nvidia 2080 Ti · 12 vCPU · 64 GiB',\n",
       "  'type': 'GPU',\n",
       "  'reigion': ['North Carolina-US'],\n",
       "  'price': '36.0',\n",
       "  'status': 'available'},\n",
       " {'id': 44,\n",
       "  'name': 'T1az.4xlarge',\n",
       "  'description': 'Nvidia A4000 · 8 vCPU · 64 GiB',\n",
       "  'type': 'AI GPU',\n",
       "  'reigion': ['Ivano-Frankivsk Oblast-UA'],\n",
       "  'price': '65.0',\n",
       "  'status': 'available'},\n",
       " {'id': 55,\n",
       "  'name': 'T2az.4xlarge',\n",
       "  'description': 'Nvidia A4000 · 12 vCPU · 128 GiB',\n",
       "  'type': 'AI GPU',\n",
       "  'reigion': ['Ivano-Frankivsk Oblast-UA'],\n",
       "  'price': '75.0',\n",
       "  'status': 'available'},\n",
       " {'id': 72,\n",
       "  'name': 'R1ae.small',\n",
       "  'description': 'Nvidia 2080 TI · 8 vCPU · 32 GiB',\n",
       "  'type': 'GPU',\n",
       "  'reigion': ['North Carolina-US'],\n",
       "  'price': '12.0',\n",
       "  'status': 'available'},\n",
       " {'id': 73,\n",
       "  'name': 'R1ae.medium',\n",
       "  'description': 'Nvidia 3080 · 8 vCPU · 32 GiB',\n",
       "  'type': 'GPU',\n",
       "  'reigion': ['Kowloon City-HK',\n",
       "   'North Carolina-US',\n",
       "   'Guangdong-CN',\n",
       "   'California-US',\n",
       "   'Tokyo-JP'],\n",
       "  'price': '22.0',\n",
       "  'status': 'available'},\n",
       " {'id': 74,\n",
       "  'name': 'R1ae.large',\n",
       "  'description': 'Nvidia 3090 · 8 vCPU · 32 GiB',\n",
       "  'type': 'GPU',\n",
       "  'reigion': ['California-US'],\n",
       "  'price': '30.0',\n",
       "  'status': 'available'},\n",
       " {'id': 78,\n",
       "  'name': 'R2ae.xlarge',\n",
       "  'description': 'Nvidia A4000 · 8 vCPU · 32 GiB',\n",
       "  'type': 'AI GPU',\n",
       "  'reigion': ['Ivano-Frankivsk Oblast-UA'],\n",
       "  'price': '52.0',\n",
       "  'status': 'available'}]"
      ]
     },
     "execution_count": 6,
     "metadata": {},
     "output_type": "execute_result"
    }
   ],
   "source": [
    "hardwares = swan_api.get_hardware_config()\n",
    "hardwares_info = [hardware.to_dict() for hardware in hardwares if hardware.status == \"available\"] \n",
    "hardwares_info"
   ]
  },
  {
   "cell_type": "code",
   "execution_count": 14,
   "metadata": {},
   "outputs": [
    {
     "name": "stdout",
     "output_type": "stream",
     "text": [
      "13\n",
      "('G1ae.medium', 13, ['Kowloon City-HK', 'North Carolina-US', 'Guangdong-CN', 'California-US', 'Tokyo-JP'])\n"
     ]
    }
   ],
   "source": [
    "device = \"G1ae.medium\"\n",
    "obj = [hardware for hardware in hardwares if hardware.name == device][0]\n",
    "print(obj.id)\n",
    "print([(hardware.name, hardware.id, hardware.region) for hardware in hardwares if hardware.name == device][0])"
   ]
  },
  {
   "cell_type": "code",
   "execution_count": 21,
   "metadata": {},
   "outputs": [],
   "source": [
    "from swan.object.source_uri import LagrangeSpace\n",
    "\n",
    "lag = LagrangeSpace('0x1898015fCde650CDB05a69FB9EC70C77e2145206', 'NSFW', os.getenv(\"WALLET\"), obj)\n",
    " \n",
    "lag.get_space_info()\n",
    "\n",
    "# Upload Directory to MCS\n",
    "response = lag.generate_source_uri('swan_test', 'mar8s1', 'nsfw.json', mcs_client = mcs_api)"
   ]
  },
  {
   "cell_type": "code",
   "execution_count": 16,
   "metadata": {},
   "outputs": [
    {
     "name": "stdout",
     "output_type": "stream",
     "text": [
      "https://plutotest.acl.swanipfs.com/ipfs/QmdfYwdXR5SqURn4EJxCy9Ry8dbW8jgDyLeuiV6JN4NFaM\n"
     ]
    }
   ],
   "source": [
    "print(lag.source_uri)"
   ]
  },
  {
   "cell_type": "code",
   "execution_count": 17,
   "metadata": {},
   "outputs": [
    {
     "name": "stdout",
     "output_type": "stream",
     "text": [
      "22000000000000000000\n"
     ]
    }
   ],
   "source": [
    "import sys\n",
    "sys.path.insert(0, '..')\n",
    " \n",
    "import os\n",
    "from dotenv import load_dotenv\n",
    "load_dotenv()\n",
    " \n",
    "from swan import SwanContract\n",
    " \n",
    "pk = os.getenv('PK')\n",
    "rpc = os.getenv('RPC')\n",
    " \n",
    "c = SwanContract(pk, rpc)\n",
    " \n",
    "# Test esimate lock revenue\n",
    "r = c.estimate_payment(obj.id, 2)\n",
    "print(r)"
   ]
  },
  {
   "cell_type": "code",
   "execution_count": 18,
   "metadata": {},
   "outputs": [
    {
     "name": "stdout",
     "output_type": "stream",
     "text": [
      "0xa4f1b750f7db34b6b1f25a8f1ace056ae350ef5014789865568f268fb24e2ebe\n",
      "0x4a43ee6f00a5d1e767b30c4e090e0b8b3fb97937017fbcf2cc176ab99a7aafee\n"
     ]
    },
    {
     "name": "stderr",
     "output_type": "stream",
     "text": [
      "mar8s1: 2.44kB [00:19, 23.1kB/s]"
     ]
    }
   ],
   "source": [
    "r = c._approve_swan_token(22000000000000000000)\n",
    "print(r)\n",
    " \n",
    "r = c.lock_revenue('1', obj.id, 1)\n",
    "print(r)"
   ]
  },
  {
   "cell_type": "code",
   "execution_count": 19,
   "metadata": {},
   "outputs": [
    {
     "name": "stdout",
     "output_type": "stream",
     "text": [
      "{'data': {'task': {'created_at': '1712159024', 'end_at': '1712165019', 'leading_job_id': None, 'status': 'created', 'task_detail_cid': 'https://data.mcs.lagrangedao.org/ipfs/QmSqBxQPmzeepdoWoAQ2fSLrCaVe5GoD1VhoWhZghkNadn', 'updated_at': '1712159024', 'uuid': 'dd488fb7-5e2b-4283-9ccb-73964a84484c'}}, 'message': 'Task_uuid created.', 'status': 'success'}\n",
      "Task UUID: dd488fb7-5e2b-4283-9ccb-73964a84484c\n"
     ]
    }
   ],
   "source": [
    "# Retrieve List of Hardwares\n",
    "\n",
    "# for hardware in hardwares:\n",
    "#     if hardware.name == 'C1ae.medium':\n",
    "#         print(hardware.region, hardware.price)\n",
    "        \n",
    "# Deploy task\n",
    "result = swan_api.deploy_task(\n",
    "                              cfg_name=device, \n",
    "                              region='California-US', \n",
    "                              start_in=60*40, duration=3600*1, \n",
    "                              job_source_uri=lag.source_uri, \n",
    "                              paid=11,\n",
    "                              tx_hash=r,\n",
    "                              wallet_address=os.getenv('WALLET'),\n",
    "                            )\n",
    "print(result)\n",
    "task_uuid = result['data']['task']['uuid']\n",
    "print(\"Task UUID:\", task_uuid)"
   ]
  },
  {
   "cell_type": "code",
   "execution_count": null,
   "metadata": {},
   "outputs": [],
   "source": [
    "# Check task info\n",
    "while True:\n",
    "    info = swan_api.get_deployment_info(task_uuid=task_uuid)\n",
    "    if len(info['data']['jobs']) > 0:\n",
    "        \n",
    "        status = info['data']['jobs'][0]['status']\n",
    "        print(status)\n",
    "        \n",
    "        job_res_uri = info['data']['jobs'][0]['job_result_uri']\n",
    "        job_real_uri = info['data']['jobs'][0]['job_real_uri']\n",
    "        print(\"Job Result URL: \", job_res_uri)\n",
    "        print(\"Job Real URL: \", job_real_uri)\n",
    "        \n",
    "        # break\n",
    "        if status == 'deployToK8s' or status == \"Cancelled\" or status == \"Failed\":\n",
    "            break\n",
    "        \n",
    "    time.sleep(30)"
   ]
  },
  {
   "cell_type": "code",
   "execution_count": null,
   "metadata": {},
   "outputs": [],
   "source": [
    "r = swan_api.get_real_url(task_uuid)\n",
    "print(r)"
   ]
  },
  {
   "cell_type": "code",
   "execution_count": 23,
   "metadata": {},
   "outputs": [
    {
     "name": "stdout",
     "output_type": "stream",
     "text": [
      "{\n",
      "    \"result\": [\n",
      "        {\n",
      "            \"cid\": \"bafkreifimggaqwgu2pkjwx6hjwtpw7icswyiifgm2riiuy3kazsw7n67xy\",\n",
      "            \"is_nsfw_image\": true,\n",
      "            \"link\": \"https://encrypted-tbn0.gstatic.com/images?q=tbn:ANd9GcSYf_0-TvQ0WIDT0wFTAzdqD-c0y1mSfQjfOO0ydStXxA&s\",\n",
      "            \"probability\": 0.999750554561615\n",
      "        },\n",
      "        {\n",
      "            \"cid\": \"bafkreidcpmeykuc6atin6zxiednu6vsejitdwsuj6e6hiepqscvihvnvgu\",\n",
      "            \"is_nsfw_image\": true,\n",
      "            \"link\": \"https://cdni.pornpics.de/460/7/622/16870332/16870332_155_7baa.jpg\",\n",
      "            \"probability\": 0.999907374382019\n",
      "        },\n",
      "        {\n",
      "            \"cid\": \"bafkreiaohmu6r7htsd57l6deqijexobisuhzqsjb2nkt2wc3fwpghiwmfa\",\n",
      "            \"is_nsfw_image\": true,\n",
      "            \"link\": \"https://cdn77-pic.xvideos-cdn.com/videos/thumbs169poster/28/56/d5/2856d555486fba22716a930e8a928c7f-2/2856d555486fba22716a930e8a928c7f.30.jpg\",\n",
      "            \"probability\": 0.9998795986175537\n",
      "        },\n",
      "        {\n",
      "            \"cid\": \"bafkreib6pmuc666jed4rasgc7xrhbyrdujligzgfxoemo4ncsbrzzviqoq\",\n",
      "            \"is_nsfw_image\": true,\n",
      "            \"link\": \"https://cdn.pornapi.online/content/2023-06-15/eGOkYIoH.jpg\",\n",
      "            \"probability\": 0.9998980760574341\n",
      "        },\n",
      "        {\n",
      "            \"cid\": \"bafkreibndlhmo442b2xpvr4fsd6rckn2nc7w472l6ti7jzapkvddmh5fcq\",\n",
      "            \"is_nsfw_image\": true,\n",
      "            \"link\": \"https://porn62.com/wp-content/uploads/2020/10/xxx-porn.jpg\",\n",
      "            \"probability\": 0.9998544454574585\n",
      "        },\n",
      "        {\n",
      "            \"cid\": \"bafkreibiv3ntv7fbw2xiedq4pzkjrr4xdrhw5v2aevhnefn366p2kedixm\",\n",
      "            \"is_nsfw_image\": true,\n",
      "            \"link\": \"https://static-ca-cdn.eporner.com/gallery/58/U0/pvyTrBuU058/11679702-ai-porn-bbw-image-5.jpg\",\n",
      "            \"probability\": 0.999873161315918\n",
      "        },\n",
      "        {\n",
      "            \"cid\": \"bafkreibufeswf5gtvgwfu3g52ag5fc3hs3imf3q2dgjjvmqfejkc23vxya\",\n",
      "            \"is_nsfw_image\": false,\n",
      "            \"link\": \"https://plutotest.acl.swanipfs.com/ipfs/QmbxYuLWdyQQpdK9wKqK4A8TiFtMf885d6mHrfvaf6CZyX?filename=istockphoto-157030584-612x612.jpg\",\n",
      "            \"probability\": 0.9925754070281982\n",
      "        },\n",
      "        {\n",
      "            \"cid\": \"bafkreibmfbifzisgpntdaeljw7nbchdnlbijccitaymcozakaiznzaiw64\",\n",
      "            \"is_nsfw_image\": false,\n",
      "            \"link\": \"https://plutotest.acl.swanipfs.com/ipfs/QmRACojSdFuqnyyfQZ9Zgiz6zrVCUX1JRkYZyvRGu1MCzG?filename=Ipfs-logo-1024-ice-text.png\",\n",
      "            \"probability\": 0.999238133430481\n",
      "        },\n",
      "        {\n",
      "            \"cid\": \"bafkreidermoo52zy2nhj6cdmafqfnenfwfwtgrnaio3aijbslk6nyw56te\",\n",
      "            \"is_nsfw_image\": false,\n",
      "            \"link\": \"https://plutotest.acl.swanipfs.com/ipfs/QmSeUJZYyC2UVJK2oH7HzVvd3XgEFPtkoiZWSQ6YzSKP36?filename=Happy-Guy.jpg\",\n",
      "            \"probability\": 0.9997988343238831\n",
      "        },\n",
      "        {\n",
      "            \"cid\": \"bafkreifymod6f45nik5vrctrqzbgvhkh6oe7nr33mq45hbzu6mnxftyrcu\",\n",
      "            \"is_nsfw_image\": false,\n",
      "            \"link\": \"https://plutotest.acl.swanipfs.com/ipfs/QmUhnnxBNP2tmYAFaBKYqem5weS9H4jXQcjwT7kvSWgXYV?filename=nm-how-happiness-affects-health-tnail.jpg\",\n",
      "            \"probability\": 0.9997853636741638\n",
      "        }\n",
      "    ]\n",
      "}\n"
     ]
    }
   ],
   "source": [
    "import requests\n",
    "import json\n",
    "\n",
    "headers = {\n",
    "    'Content-Type': 'application/json',\n",
    "}\n",
    "json_data = {\n",
    "    'link': [\n",
    "        ##### NSFW\n",
    "        'https://encrypted-tbn0.gstatic.com/images?q=tbn:ANd9GcSYf_0-TvQ0WIDT0wFTAzdqD-c0y1mSfQjfOO0ydStXxA&s',\n",
    "        'https://cdni.pornpics.de/460/7/622/16870332/16870332_155_7baa.jpg',\n",
    "        'https://cdn77-pic.xvideos-cdn.com/videos/thumbs169poster/28/56/d5/2856d555486fba22716a930e8a928c7f-2/2856d555486fba22716a930e8a928c7f.30.jpg',\n",
    "        'https://cdn.pornapi.online/content/2023-06-15/eGOkYIoH.jpg',\n",
    "        'https://porn62.com/wp-content/uploads/2020/10/xxx-porn.jpg',\n",
    "        'https://static-ca-cdn.eporner.com/gallery/58/U0/pvyTrBuU058/11679702-ai-porn-bbw-image-5.jpg',\n",
    "        ##### Safe\n",
    "        'https://plutotest.acl.swanipfs.com/ipfs/QmbxYuLWdyQQpdK9wKqK4A8TiFtMf885d6mHrfvaf6CZyX?filename=istockphoto-157030584-612x612.jpg',\n",
    "        'https://plutotest.acl.swanipfs.com/ipfs/QmRACojSdFuqnyyfQZ9Zgiz6zrVCUX1JRkYZyvRGu1MCzG?filename=Ipfs-logo-1024-ice-text.png',\n",
    "        'https://plutotest.acl.swanipfs.com/ipfs/QmSeUJZYyC2UVJK2oH7HzVvd3XgEFPtkoiZWSQ6YzSKP36?filename=Happy-Guy.jpg',\n",
    "        'https://plutotest.acl.swanipfs.com/ipfs/QmUhnnxBNP2tmYAFaBKYqem5weS9H4jXQcjwT7kvSWgXYV?filename=nm-how-happiness-affects-health-tnail.jpg',\n",
    "    ],\n",
    "}\n",
    "\n",
    "response = requests.post(f\"https://u3xc9xrzmv.dev2.crosschain.computer/link\", headers=headers, json=json_data)\n",
    "\n",
    "try:\n",
    "    print(json.dumps(response.json(), indent=4))\n",
    "except Exception as e:\n",
    "    print(e)\n",
    "    print(response)\n"
   ]
  },
  {
   "cell_type": "code",
   "execution_count": 49,
   "metadata": {},
   "outputs": [],
   "source": [
    "log_path = '../nsfw_imgs.csv'\n",
    "\n",
    "if not os.path.isfile(log_path):\n",
    "    with open(log_path, 'w') as f:\n",
    "        f.write('cid,link,IS NSFW IMAGE,Probability\\n')\n",
    "\n",
    "with open(log_path, 'a') as f:\n",
    "    for result in response.json()['result']:\n",
    "        if result['is_nsfw_image']:\n",
    "            f.write(f\"{result['cid']},{result['link']},{result['is_nsfw_image']},{result['probability']}\\n\")\n"
   ]
  }
 ],
 "metadata": {
  "kernelspec": {
   "display_name": "swanchain",
   "language": "python",
   "name": "python3"
  },
  "language_info": {
   "codemirror_mode": {
    "name": "ipython",
    "version": 3
   },
   "file_extension": ".py",
   "mimetype": "text/x-python",
   "name": "python",
   "nbconvert_exporter": "python",
   "pygments_lexer": "ipython3",
   "version": "3.10.14"
  }
 },
 "nbformat": 4,
 "nbformat_minor": 2
}
