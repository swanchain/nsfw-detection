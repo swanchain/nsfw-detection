{
 "cells": [
  {
   "cell_type": "code",
   "execution_count": 2,
   "metadata": {},
   "outputs": [],
   "source": [
    "import os\n",
    "import time\n",
    "import dotenv\n",
    "dotenv.load_dotenv(\"../.env\")\n",
    "from swan import SwanAPI, MCSAPI\n",
    "\n",
    "# Initialize the Swan Service\n",
    "swan_api = SwanAPI(api_key=os.getenv(\"SWAN_API\"), environment=os.getenv(\"SWAN_ENV\"))\n",
    "\n",
    "api_key = os.getenv(\"MCS_API\")\n",
    "mcs_api = MCSAPI(api_key)\n"
   ]
  },
  {
   "cell_type": "code",
   "execution_count": 3,
   "metadata": {},
   "outputs": [
    {
     "data": {
      "text/plain": [
       "[{'id': 0,\n",
       "  'name': 'C1ae.small',\n",
       "  'description': 'CPU only · 2 vCPU · 2 GiB',\n",
       "  'type': 'CPU',\n",
       "  'reigion': ['Quebec-CA', 'North Carolina-US'],\n",
       "  'price': '0.0',\n",
       "  'status': 'available'},\n",
       " {'id': 1,\n",
       "  'name': 'C1ae.medium',\n",
       "  'description': 'CPU only · 4 vCPU · 4 GiB',\n",
       "  'type': 'CPU',\n",
       "  'reigion': ['Quebec-CA', 'North Carolina-US'],\n",
       "  'price': '1.0',\n",
       "  'status': 'available'},\n",
       " {'id': 12,\n",
       "  'name': 'G1ae.small',\n",
       "  'description': 'Nvidia 3080 · 4 vCPU · 8 GiB',\n",
       "  'type': 'GPU',\n",
       "  'reigion': ['Quebec-CA', 'North Carolina-US'],\n",
       "  'price': '10.0',\n",
       "  'status': 'available'},\n",
       " {'id': 13,\n",
       "  'name': 'G1ae.medium',\n",
       "  'description': 'Nvidia 3080 · 8 vCPU · 16 GiB',\n",
       "  'type': 'GPU',\n",
       "  'reigion': ['Quebec-CA', 'North Carolina-US'],\n",
       "  'price': '11.0',\n",
       "  'status': 'available'},\n",
       " {'id': 73,\n",
       "  'name': 'R1ae.medium',\n",
       "  'description': 'Nvidia 3080 · 8 vCPU · 32 GiB',\n",
       "  'type': 'GPU',\n",
       "  'reigion': ['Quebec-CA', 'North Carolina-US'],\n",
       "  'price': '22.0',\n",
       "  'status': 'available'}]"
      ]
     },
     "execution_count": 3,
     "metadata": {},
     "output_type": "execute_result"
    }
   ],
   "source": [
    "hardwares = swan_api.get_hardware_config()\n",
    "hardwares_info = [hardware.to_dict() for hardware in hardwares if hardware.status == \"available\"] \n",
    "hardwares_info"
   ]
  },
  {
   "cell_type": "code",
   "execution_count": 4,
   "metadata": {},
   "outputs": [
    {
     "name": "stdout",
     "output_type": "stream",
     "text": [
      "13\n",
      "('G1ae.medium', 13, ['Quebec-CA', 'North Carolina-US'])\n"
     ]
    }
   ],
   "source": [
    "device = \"G1ae.medium\"\n",
    "obj = [hardware for hardware in hardwares if hardware.name == device][0]\n",
    "print(obj.id)\n",
    "print([(hardware.name, hardware.id, hardware.region) for hardware in hardwares if hardware.name == device][0])"
   ]
  },
  {
   "cell_type": "code",
   "execution_count": 5,
   "metadata": {},
   "outputs": [],
   "source": [
    "from swan.object.source_uri import LagrangeSpace\n",
    "\n",
    "lag = LagrangeSpace('0x1898015fCde650CDB05a69FB9EC70C77e2145206', 'NSFW', os.getenv(\"WALLET\"), obj)\n",
    " \n",
    "lag.get_space_info()\n",
    "\n",
    "# Upload Directory to MCS\n",
    "response = lag.generate_source_uri('swan_test', 'mar8s1', 'nsfw.json', mcs_client = mcs_api)"
   ]
  },
  {
   "cell_type": "code",
   "execution_count": 6,
   "metadata": {},
   "outputs": [
    {
     "name": "stdout",
     "output_type": "stream",
     "text": [
      "https://plutotest.acl.swanipfs.com/ipfs/Qmb39hJJ3mMmfDcVjt59m7SfC6ZimuQQsRHhfWctQaQAoz\n"
     ]
    }
   ],
   "source": [
    "print(lag.source_uri)"
   ]
  },
  {
   "cell_type": "code",
   "execution_count": 6,
   "metadata": {},
   "outputs": [
    {
     "name": "stdout",
     "output_type": "stream",
     "text": [
      "22000000000000000000\n"
     ]
    }
   ],
   "source": [
    "import sys\n",
    "sys.path.insert(0, '..')\n",
    " \n",
    "import os\n",
    "from dotenv import load_dotenv\n",
    "load_dotenv()\n",
    " \n",
    "from swan import SwanContract\n",
    " \n",
    "pk = os.getenv('PK')\n",
    "rpc = os.getenv('RPC')\n",
    " \n",
    "c = SwanContract(pk, rpc)\n",
    " \n",
    "# Test esimate lock revenue\n",
    "r = c.estimate_payment(obj.id, 2)\n",
    "print(r)"
   ]
  },
  {
   "cell_type": "code",
   "execution_count": 7,
   "metadata": {},
   "outputs": [
    {
     "name": "stdout",
     "output_type": "stream",
     "text": [
      "0xfc27e23ae3d9785eeae90c0b9fa0a5910f1f32a631ec7799edf14d1841c790fd\n",
      "0xa0ed91eb6fb8b1ab3b3ad112fd65ecf74aea5d6cbbddc70a3b059cb16af11c96\n"
     ]
    }
   ],
   "source": [
    "r = c._approve_swan_token(22000000000000000000)\n",
    "print(r)\n",
    " \n",
    "r = c.lock_revenue('1', obj.id, 1)\n",
    "print(r)"
   ]
  },
  {
   "cell_type": "code",
   "execution_count": 8,
   "metadata": {},
   "outputs": [
    {
     "name": "stdout",
     "output_type": "stream",
     "text": [
      "{'data': {'task': {'created_at': '1712084405', 'end_at': '1712090401', 'leading_job_id': None, 'status': 'created', 'task_detail_cid': 'https://plutotest.acl.swanipfs.com/ipfs/Qmdwj5D9skp52vW4mYEVp4yNHuJnx5cdF6byQwMk1pPy7c', 'updated_at': '1712084405', 'uuid': '72b34e63-2845-4dff-8913-47edce4d0d88'}}, 'message': 'Task_uuid created.', 'status': 'success'}\n",
      "Task UUID: 72b34e63-2845-4dff-8913-47edce4d0d88\n"
     ]
    }
   ],
   "source": [
    "# Retrieve List of Hardwares\n",
    "\n",
    "# for hardware in hardwares:\n",
    "#     if hardware.name == 'C1ae.medium':\n",
    "#         print(hardware.region, hardware.price)\n",
    "        \n",
    "# Deploy task\n",
    "result = swan_api.deploy_task(\n",
    "                              cfg_name=device, \n",
    "                              region='Quebec-CA', \n",
    "                              start_in=60*40, duration=3600*1, \n",
    "                              job_source_uri=lag.source_uri, \n",
    "                              paid=11,\n",
    "                              tx_hash=r,\n",
    "                              wallet_address=os.getenv('WALLET'),\n",
    "                            )\n",
    "print(result)\n",
    "task_uuid = result['data']['task']['uuid']\n",
    "print(\"Task UUID:\", task_uuid)"
   ]
  },
  {
   "cell_type": "code",
   "execution_count": 9,
   "metadata": {},
   "outputs": [
    {
     "ename": "KeyboardInterrupt",
     "evalue": "",
     "output_type": "error",
     "traceback": [
      "\u001b[0;31m---------------------------------------------------------------------------\u001b[0m",
      "\u001b[0;31mKeyboardInterrupt\u001b[0m                         Traceback (most recent call last)",
      "\u001b[1;32m/home/tomyang/projects/porn_detection/vit_based/src/swanchain_deploy.ipynb Cell 9\u001b[0m line \u001b[0;36m2\n\u001b[1;32m     <a href='vscode-notebook-cell://ssh-remote%2B34.136.68.167/home/tomyang/projects/porn_detection/vit_based/src/swanchain_deploy.ipynb#X11sdnNjb2RlLXJlbW90ZQ%3D%3D?line=16'>17</a>\u001b[0m     \u001b[39mif\u001b[39;00m status \u001b[39m==\u001b[39m \u001b[39m'\u001b[39m\u001b[39mdeployToK8s\u001b[39m\u001b[39m'\u001b[39m \u001b[39mor\u001b[39;00m status \u001b[39m==\u001b[39m \u001b[39m\"\u001b[39m\u001b[39mCancelled\u001b[39m\u001b[39m\"\u001b[39m \u001b[39mor\u001b[39;00m status \u001b[39m==\u001b[39m \u001b[39m\"\u001b[39m\u001b[39mFailed\u001b[39m\u001b[39m\"\u001b[39m:\n\u001b[1;32m     <a href='vscode-notebook-cell://ssh-remote%2B34.136.68.167/home/tomyang/projects/porn_detection/vit_based/src/swanchain_deploy.ipynb#X11sdnNjb2RlLXJlbW90ZQ%3D%3D?line=17'>18</a>\u001b[0m         \u001b[39mbreak\u001b[39;00m\n\u001b[0;32m---> <a href='vscode-notebook-cell://ssh-remote%2B34.136.68.167/home/tomyang/projects/porn_detection/vit_based/src/swanchain_deploy.ipynb#X11sdnNjb2RlLXJlbW90ZQ%3D%3D?line=19'>20</a>\u001b[0m time\u001b[39m.\u001b[39;49msleep(\u001b[39m30\u001b[39;49m)\n",
      "\u001b[0;31mKeyboardInterrupt\u001b[0m: "
     ]
    }
   ],
   "source": [
    "# Check task info\n",
    "while True:\n",
    "    info = swan_api.get_deployment_info(task_uuid=task_uuid)\n",
    "    if len(info['data']['jobs']) > 0:\n",
    "        \n",
    "        status = info['data']['jobs'][0]['status']\n",
    "        print(status)\n",
    "        \n",
    "        job_res_uri = info['data']['jobs'][0]['job_result_uri']\n",
    "        job_real_uri = info['data']['jobs'][0]['job_real_uri']\n",
    "        print(\"Job Result URL: \", job_res_uri)\n",
    "        print(\"Job Real URL: \", job_real_uri)\n",
    "        \n",
    "        # break\n",
    "        if status == 'deployToK8s' or status == \"Cancelled\" or status == \"Failed\":\n",
    "            break\n",
    "        \n",
    "    time.sleep(30)"
   ]
  },
  {
   "cell_type": "code",
   "execution_count": null,
   "metadata": {},
   "outputs": [],
   "source": [
    "r = swan_api.get_real_url(task_uuid)\n",
    "print(r)"
   ]
  },
  {
   "cell_type": "code",
   "execution_count": 3,
   "metadata": {},
   "outputs": [
    {
     "name": "stdout",
     "output_type": "stream",
     "text": [
      "Expecting value: line 1 column 1 (char 0)\n",
      "<Response [404]>\n"
     ]
    }
   ],
   "source": [
    "import requests\n",
    "import json\n",
    "\n",
    "headers = {\n",
    "    'Content-Type': 'application/json',\n",
    "}\n",
    "json_data = {\n",
    "    'link': [\n",
    "        ##### NSFW\n",
    "        'https://encrypted-tbn0.gstatic.com/images?q=tbn:ANd9GcSYf_0-TvQ0WIDT0wFTAzdqD-c0y1mSfQjfOO0ydStXxA&s',\n",
    "        'https://cdni.pornpics.de/460/7/622/16870332/16870332_155_7baa.jpg',\n",
    "        'https://cdn77-pic.xvideos-cdn.com/videos/thumbs169poster/28/56/d5/2856d555486fba22716a930e8a928c7f-2/2856d555486fba22716a930e8a928c7f.30.jpg',\n",
    "        'https://cdn.pornapi.online/content/2023-06-15/eGOkYIoH.jpg',\n",
    "        'https://porn62.com/wp-content/uploads/2020/10/xxx-porn.jpg',\n",
    "        'https://static-ca-cdn.eporner.com/gallery/58/U0/pvyTrBuU058/11679702-ai-porn-bbw-image-5.jpg',\n",
    "        ##### Safe\n",
    "        'https://plutotest.acl.swanipfs.com/ipfs/QmbxYuLWdyQQpdK9wKqK4A8TiFtMf885d6mHrfvaf6CZyX?filename=istockphoto-157030584-612x612.jpg',\n",
    "        'https://plutotest.acl.swanipfs.com/ipfs/QmRACojSdFuqnyyfQZ9Zgiz6zrVCUX1JRkYZyvRGu1MCzG?filename=Ipfs-logo-1024-ice-text.png',\n",
    "        'https://plutotest.acl.swanipfs.com/ipfs/QmSeUJZYyC2UVJK2oH7HzVvd3XgEFPtkoiZWSQ6YzSKP36?filename=Happy-Guy.jpg',\n",
    "        'https://plutotest.acl.swanipfs.com/ipfs/QmUhnnxBNP2tmYAFaBKYqem5weS9H4jXQcjwT7kvSWgXYV?filename=nm-how-happiness-affects-health-tnail.jpg',\n",
    "    ],\n",
    "}\n",
    "# https://1j2muw1lae.dev2.crosschain.computer\n",
    "# https://u3xc9xrzmv.dev2.crosschain.computer/\n",
    "response = requests.post(f\"https://lrltc5cerm.cp.filezoo.com.cn/link\", headers=headers, json=json_data)\n",
    "\n",
    "try:\n",
    "    print(json.dumps(response.json(), indent=4))\n",
    "except Exception as e:\n",
    "    print(e)\n",
    "    print(response)\n"
   ]
  },
  {
   "cell_type": "code",
   "execution_count": 49,
   "metadata": {},
   "outputs": [],
   "source": [
    "log_path = '../nsfw_imgs.csv'\n",
    "\n",
    "if not os.path.isfile(log_path):\n",
    "    with open(log_path, 'w') as f:\n",
    "        f.write('cid,link,IS NSFW IMAGE,Probability\\n')\n",
    "\n",
    "with open(log_path, 'a') as f:\n",
    "    for result in response.json()['result']:\n",
    "        if result['is_nsfw_image']:\n",
    "            f.write(f\"{result['cid']},{result['link']},{result['is_nsfw_image']},{result['probability']}\\n\")\n"
   ]
  }
 ],
 "metadata": {
  "kernelspec": {
   "display_name": "swanchain",
   "language": "python",
   "name": "python3"
  },
  "language_info": {
   "codemirror_mode": {
    "name": "ipython",
    "version": 3
   },
   "file_extension": ".py",
   "mimetype": "text/x-python",
   "name": "python",
   "nbconvert_exporter": "python",
   "pygments_lexer": "ipython3",
   "version": "3.10.14"
  }
 },
 "nbformat": 4,
 "nbformat_minor": 2
}
