{
 "cells": [
  {
   "cell_type": "code",
   "execution_count": 1,
   "metadata": {},
   "outputs": [],
   "source": [
    "import os\n",
    "import time\n",
    "import dotenv\n",
    "dotenv.load_dotenv(\"../.env\")\n",
    "from swan import SwanAPI, SwanContract\n",
    "\n",
    "# Initialize the Swan Service\n",
    "# dev: XraxVKnsWn\n",
    "# M2bPEWEkiE\n",
    "# wallet: 0x5339595102d922AA0F8EfD6DCA9a2b406F57937a\n",
    "# environment=\"https://swanhub-cali.swanchain.io\"\n",
    "swan_api = SwanAPI(api_key=\"M2bPEWEkiE\")\n",
    "\n",
    "from swan import MCSAPI\n",
    " \n",
    "api_key = os.getenv(\"MCS_API\")\n",
    "mcs_api = MCSAPI(api_key)\n"
   ]
  },
  {
   "cell_type": "code",
   "execution_count": 2,
   "metadata": {},
   "outputs": [
    {
     "name": "stdout",
     "output_type": "stream",
     "text": [
      "<swan.object.cp_config.HardwareConfig object at 0x7f05744b3130>\n"
     ]
    }
   ],
   "source": [
    "hardwares = swan_api.get_hardware_config()\n",
    "\n",
    "obj = [hardware for hardware in hardwares if hardware.name == 'G1ae.medium'][0]\n",
    "print(obj)"
   ]
  },
  {
   "cell_type": "code",
   "execution_count": 3,
   "metadata": {},
   "outputs": [
    {
     "name": "stderr",
     "output_type": "stream",
     "text": [
      "mar8s1: 3.35kB [00:00, 31.5kB/s]                   "
     ]
    }
   ],
   "source": [
    "from swan.object.source_uri import LagrangeSpace\n",
    "\n",
    "lag = LagrangeSpace('0x61c3e03dbed55f5DE213732e816F8A8Fd6E9bfF0', 'NSFW_Detection', os.getenv(\"WALLET\"), obj)\n",
    " \n",
    "lag.get_space_info()\n",
    "\n",
    "# Upload Directory to MCS\n",
    "response = lag.generate_source_uri('swan_test', 'mar8s1', 'nsfw.json', mcs_client = mcs_api)"
   ]
  },
  {
   "cell_type": "code",
   "execution_count": 6,
   "metadata": {},
   "outputs": [
    {
     "name": "stdout",
     "output_type": "stream",
     "text": [
      "https://plutotest.acl.swanipfs.com/ipfs/QmVBtL7ffwg9wKfCyMjpjXwgSTQDvp1p8eVT2CtUznzufw\n"
     ]
    }
   ],
   "source": [
    "print(lag.source_uri)"
   ]
  },
  {
   "cell_type": "code",
   "execution_count": 8,
   "metadata": {},
   "outputs": [
    {
     "name": "stdout",
     "output_type": "stream",
     "text": [
      "('G1ae.medium', 13, ['Quebec-CA', 'Kowloon City-HK', 'Jiangsu-CN'])\n"
     ]
    }
   ],
   "source": [
    "print([(hardware.name, hardware.id, hardware.region) for hardware in hardwares if hardware.name == 'G1ae.medium'][0])"
   ]
  },
  {
   "cell_type": "code",
   "execution_count": 13,
   "metadata": {},
   "outputs": [
    {
     "name": "stdout",
     "output_type": "stream",
     "text": [
      "22000000000000000000\n"
     ]
    }
   ],
   "source": [
    "import sys\n",
    "sys.path.insert(0, '..')\n",
    " \n",
    "import os\n",
    "from dotenv import load_dotenv\n",
    "load_dotenv()\n",
    " \n",
    "from swan import SwanContract\n",
    " \n",
    "pk = os.getenv('PK')\n",
    "rpc = os.getenv('RPC')\n",
    " \n",
    "c = SwanContract(pk, rpc)\n",
    " \n",
    "# Test esimate lock revenue\n",
    "r = c.estimate_payment(13, 2)\n",
    "print(r)\n"
   ]
  },
  {
   "cell_type": "code",
   "execution_count": 14,
   "metadata": {},
   "outputs": [
    {
     "name": "stdout",
     "output_type": "stream",
     "text": [
      "0x7a6d3d4b3ea9b16f900da07d8e206057e822d7d50393bac87e553e6cc17128aa\n",
      "0x584983609061d4dbb99e2ab8744e498284f812195db6196058f4bf5c36a6537a\n"
     ]
    }
   ],
   "source": [
    " \n",
    "# # Test get hardware info\n",
    "# r = c.hardware_info(1)\n",
    "# print(r)\n",
    " \n",
    "# # Test get swan token balance\n",
    "# r = c._get_swan_balance()\n",
    "# print(r * 1e-18)\n",
    " \n",
    "# # Test get gas\n",
    "# r = c._get_swan_gas()\n",
    "# print(r* 1e-18)\n",
    " \n",
    "r = c._approve_swan_token(22000000000000000000)\n",
    "print(r)\n",
    " \n",
    "# gas_estimate = c.payment_contract.functions.lockRevenue('1', 1, 1).estimate_gas()\n",
    "# print(gas_estimate)\n",
    " \n",
    "# r = c.w3.eth.get_block('latest')['baseFeePerGas']\n",
    "# print(r)\n",
    " \n",
    "r = c.lock_revenue('1', 13, 1)\n",
    "print(r)"
   ]
  },
  {
   "cell_type": "code",
   "execution_count": null,
   "metadata": {},
   "outputs": [],
   "source": [
    "# Retrieve List of Hardwares\n",
    "\n",
    "# for hardware in hardwares:\n",
    "#     if hardware.name == 'C1ae.medium':\n",
    "#         print(hardware.region, hardware.price)\n",
    "        \n",
    "# Deploy task\n",
    "result = swan_api.deploy_task(\n",
    "                              cfg_name='G1ae.medium', \n",
    "                              region='Quebec-CA', \n",
    "                              start_in=60*40, duration=3600*100, \n",
    "                              job_source_uri=lag.source_uri, \n",
    "                              paid=1100,\n",
    "                              tx_hash=\"0xc3108306ae9890041fb376480a5d6c7e997903cd388c1061d5f0418ed5465a31\",\n",
    "                              wallet_address=os.getenv('WALLET')\n",
    "                            )\n",
    "print(result)\n",
    "task_uuid = result['data']['task']['uuid']\n",
    "print(\"Task UUID:\", task_uuid)"
   ]
  },
  {
   "cell_type": "code",
   "execution_count": 21,
   "metadata": {},
   "outputs": [
    {
     "name": "stdout",
     "output_type": "stream",
     "text": [
      "{\n",
      "    \"data\": {\n",
      "        \"computing_providers\": [\n",
      "            {\n",
      "                \"allowed_nodes\": null,\n",
      "                \"autobid\": 1,\n",
      "                \"city\": \"Montreal\",\n",
      "                \"country\": null,\n",
      "                \"created_at\": \"1706080831\",\n",
      "                \"deleted_at\": null,\n",
      "                \"last_active_at\": null,\n",
      "                \"lat\": 45.5075,\n",
      "                \"lon\": -73.5887,\n",
      "                \"multi_address\": \"/ip4/38.140.46.60/tcp/8099\",\n",
      "                \"name\": \"filezoo.com.cn\",\n",
      "                \"node_id\": \"0493113e3cd4d0a02a3b9494059caef6f70ba1987c8867ea98b676d59f795f7dd2b304a3f46688b8b0663d3e0e36ac6336720286f5a969e04ca3eff273385045ec\",\n",
      "                \"online\": true,\n",
      "                \"public_address\": \"0xFbc1d38a2127D81BFe3EA347bec7310a1cfa2373\",\n",
      "                \"region\": \"Quebec-CA\",\n",
      "                \"score\": 100,\n",
      "                \"status\": \"Active\",\n",
      "                \"updated_at\": \"1711592195\"\n",
      "            }\n",
      "        ],\n",
      "        \"jobs\": [\n",
      "            {\n",
      "                \"bidder_id\": \"0493113e3cd4d0a02a3b9494059caef6f70ba1987c8867ea98b676d59f795f7dd2b304a3f46688b8b0663d3e0e36ac6336720286f5a969e04ca3eff273385045ec\",\n",
      "                \"build_log\": \"wss://log.filezoo.com.cn:8099/api/v1/computing/lagrange/spaces/log?space_id=QmVBtL7ffwg9wKfCyMjpjXwgSTQDvp1p8eVT2CtUznzufw&type=build\",\n",
      "                \"container_log\": \"wss://log.filezoo.com.cn:8099/api/v1/computing/lagrange/spaces/log?space_id=QmVBtL7ffwg9wKfCyMjpjXwgSTQDvp1p8eVT2CtUznzufw&type=container\",\n",
      "                \"created_at\": \"1711600199\",\n",
      "                \"duration\": 360000,\n",
      "                \"ended_at\": null,\n",
      "                \"hardware\": \"G1ae.medium\",\n",
      "                \"job_real_uri\": \"https://5vuov274mo.filezoo.com.cn\",\n",
      "                \"job_result_uri\": \"https://42f6d9f62851.acl.swanipfs.com/ipfs/Qme3iqRn9mtgvcFCgFVfY18ic8jttTo1G3arvveBdciEEm\",\n",
      "                \"job_source_uri\": \"https://plutotest.acl.swanipfs.com/ipfs/QmVBtL7ffwg9wKfCyMjpjXwgSTQDvp1p8eVT2CtUznzufw\",\n",
      "                \"name\": \"Job-a3540ffd-ce98-42a7-9e6c-56104d8d4de3\",\n",
      "                \"start_at\": \"1711602563\",\n",
      "                \"status\": \"deployToK8s\",\n",
      "                \"storage_source\": \"lagrange\",\n",
      "                \"task_uuid\": \"4fd2c87d-13bb-4c3d-9c99-f9495b593c3a\",\n",
      "                \"updated_at\": \"1711600597\",\n",
      "                \"uuid\": \"a3540ffd-ce98-42a7-9e6c-56104d8d4de3\"\n",
      "            }\n",
      "        ],\n",
      "        \"task\": {\n",
      "            \"created_at\": \"1711600168\",\n",
      "            \"end_at\": \"1711962563\",\n",
      "            \"leading_job_id\": \"a3540ffd-ce98-42a7-9e6c-56104d8d4de3\",\n",
      "            \"status\": \"completed\",\n",
      "            \"task_detail_cid\": \"https://data.mcs.lagrangedao.org/ipfs/QmR3cg9f56hzD3BhHqM1iqSJHyec5fXs7vHt1fkSbp8Dn1\",\n",
      "            \"updated_at\": \"1711600212\",\n",
      "            \"uuid\": \"4fd2c87d-13bb-4c3d-9c99-f9495b593c3a\"\n",
      "        }\n",
      "    },\n",
      "    \"message\": \"fetch task info for task_uuid='4fd2c87d-13bb-4c3d-9c99-f9495b593c3a' successfully\",\n",
      "    \"status\": \"success\"\n",
      "}\n",
      "deployToK8s\n",
      "Job Result URL:  https://42f6d9f62851.acl.swanipfs.com/ipfs/Qme3iqRn9mtgvcFCgFVfY18ic8jttTo1G3arvveBdciEEm\n",
      "Job Real URL:  https://5vuov274mo.filezoo.com.cn\n"
     ]
    }
   ],
   "source": [
    "import json\n",
    "\n",
    "# Check task info\n",
    "while True:\n",
    "    info = swan_api.get_deployment_info(task_uuid=task_uuid)\n",
    "    print(json.dumps(info, indent=4))\n",
    "    if len(info['data']['jobs']) > 0:\n",
    "        \n",
    "        status = info['data']['jobs'][0]['status']\n",
    "        print(status)\n",
    "        job_res_url = info['data']['jobs'][0]['job_result_uri']\n",
    "        job_real_url = info['data']['jobs'][0]['job_real_uri']\n",
    "        print(\"Job Result URL: \", job_res_url)\n",
    "        print(\"Job Real URL: \", job_real_url)\n",
    "        \n",
    "        # break\n",
    "        if status != 'buildImage':\n",
    "            break\n",
    "        \n",
    "    time.sleep(60)"
   ]
  },
  {
   "cell_type": "code",
   "execution_count": 16,
   "metadata": {},
   "outputs": [
    {
     "name": "stdout",
     "output_type": "stream",
     "text": [
      "['https://5vuov274mo.filezoo.com.cn']\n"
     ]
    }
   ],
   "source": [
    "r = swan_api.get_real_url(task_uuid)\n",
    "print(r)"
   ]
  },
  {
   "cell_type": "code",
   "execution_count": 18,
   "metadata": {},
   "outputs": [
    {
     "name": "stdout",
     "output_type": "stream",
     "text": [
      "<Response [200]>\n",
      "{'result': [{'is_nsfw_image': False, 'is_nsfw_link': False, 'link': 'https://encrypted-tbn0.gstatic.com/images?q=tbn:ANd9GcSYf_0-TvQ0WIDT0wFTAzdqD-c0y1mSfQjfOO0ydStXxA&s', 'probability': None}]}\n"
     ]
    }
   ],
   "source": [
    "import requests\n",
    "\n",
    "headers = {\n",
    "    'Content-Type': 'application/json',\n",
    "}\n",
    "\n",
    "json_data = {\n",
    "    'link': [\n",
    "        'https://encrypted-tbn0.gstatic.com/images?q=tbn:ANd9GcSYf_0-TvQ0WIDT0wFTAzdqD-c0y1mSfQjfOO0ydStXxA&s',\n",
    "    ],\n",
    "}\n",
    "\n",
    "response = requests.post(f\"https://5vuov274mo.filezoo.com.cn/link\", headers=headers, json=json_data)\n",
    "print(response.json())\n"
   ]
  },
  {
   "cell_type": "code",
   "execution_count": 23,
   "metadata": {},
   "outputs": [],
   "source": [
    "log_path = '../nsfw.log'\n",
    "\n",
    "if os.path.isfile(log_path):\n",
    "    with open(log_path, 'w') as f:\n",
    "        f.write('link,IS NSFW IMAGE,IS NSFW LINK,Probability\\n')\n",
    "\n",
    "with open(log_path, 'a') as f:\n",
    "    for result in response.json()['result']:\n",
    "        f.write(f\"{result['link']},{result['is_nsfw_image']},{result['is_nsfw_link']},{result['probability']}\\n\")\n",
    "        "
   ]
  }
 ],
 "metadata": {
  "kernelspec": {
   "display_name": "swanchain",
   "language": "python",
   "name": "python3"
  },
  "language_info": {
   "codemirror_mode": {
    "name": "ipython",
    "version": 3
   },
   "file_extension": ".py",
   "mimetype": "text/x-python",
   "name": "python",
   "nbconvert_exporter": "python",
   "pygments_lexer": "ipython3",
   "version": "3.10.14"
  }
 },
 "nbformat": 4,
 "nbformat_minor": 2
}
